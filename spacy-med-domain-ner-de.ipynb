{
 "cells": [
  {
   "cell_type": "code",
   "execution_count": 20,
   "metadata": {
    "tags": []
   },
   "outputs": [
    {
     "output_type": "stream",
     "name": "stdout",
     "text": [
      "3.7.8\n2.3.2\n2.0.9\n"
     ]
    }
   ],
   "source": [
    "import platform\n",
    "print(platform.python_version())\n",
    "print(spacy.__version__)\n",
    "print(json.__version__)"
   ]
  },
  {
   "cell_type": "code",
   "execution_count": 29,
   "metadata": {},
   "outputs": [],
   "source": [
    "import json\n",
    "import logging\n",
    "import sys\n",
    "\n",
    "def tsv_to_json(input_path, output_path, unknown_label):\n",
    "    try:\n",
    "        input_file = open(input_path, 'r', encoding='UTF-8')\n",
    "        output_file = open(output_path, 'w', encoding='UTF-8')\n",
    "        data_dict = {}\n",
    "        annotations = []\n",
    "        label_dict = {}\n",
    "        s = ''\n",
    "        start = 0\n",
    "        for line in input_file:\n",
    "            if line[0:len(line)-1] != '.\\tO':\n",
    "                word, entity = line.split('\\t')\n",
    "                s += word+\" \"\n",
    "                entity = entity[:len(entity)-1]\n",
    "                if entity != unknown_label and len(entity) != 1:\n",
    "                    d = {}\n",
    "                    d['text'] = word\n",
    "                    d['start'] = start\n",
    "                    d['end'] = start+len(word)-1\n",
    "                    try:\n",
    "                        label_dict[entity].append(d)\n",
    "                    except:\n",
    "                        label_dict[entity] = []\n",
    "                        label_dict[entity].append(d)\n",
    "                start += len(word)+1\n",
    "            else:\n",
    "                data_dict['content'] = s\n",
    "                s = ''\n",
    "                label_list = []\n",
    "                for ents in list(label_dict.keys()):\n",
    "                    for i in range(len(label_dict[ents])):\n",
    "                        if(label_dict[ents][i]['text'] != ''):\n",
    "                            l = [ents, label_dict[ents][i]]\n",
    "                            for j in range(i+1, len(label_dict[ents])):\n",
    "                                if(label_dict[ents][i]['text'] == label_dict[ents][j]['text']):\n",
    "                                    di = {}\n",
    "                                    di['start'] = label_dict[ents][j]['start']\n",
    "                                    di['end'] = label_dict[ents][j]['end']\n",
    "                                    di['text'] = label_dict[ents][i]['text']\n",
    "                                    l.append(di)\n",
    "                                    label_dict[ents][j]['text'] = ''\n",
    "                            label_list.append(l)\n",
    "\n",
    "                for entities in label_list:\n",
    "                    label = {}\n",
    "                    label['label'] = [entities[0]]\n",
    "                    label['points'] = entities[1:]\n",
    "                    annotations.append(label)\n",
    "                data_dict['annotation'] = annotations\n",
    "                annotations = []\n",
    "                json.dump(data_dict, output_file, ensure_ascii=False)\n",
    "                output_file.write('\\n')\n",
    "                data_dict = {}\n",
    "                label_dict = {}\n",
    "                start = 0                \n",
    "    except Exception as e:\n",
    "        logging.exception(\"Unable to process file\\nerror = \" + str(e))\n",
    "        raise e\n",
    "\n",
    "tsv_to_json(\"med-corpus.tsv\", 'med-corpus.json', 'abc')"
   ]
  },
  {
   "cell_type": "code",
   "execution_count": 30,
   "metadata": {},
   "outputs": [],
   "source": [
    "import spacy\n",
    "import json\n",
    "import random\n",
    "# Read json file and transform it to array \n",
    "def transform_json(json_file_path):\n",
    "    corpus = open(json_file_path, 'r') \n",
    "    lines = corpus.readlines() \n",
    "  \n",
    "    training_data = [] #array of train data with marked up medical entities\n",
    "    count = 0\n",
    "    # read lines from file and parsing them into special array\n",
    "    for line in lines: \n",
    "        res = json.loads(line)   \n",
    "        text = res['content']\n",
    "        entities = []\n",
    "        for annotation in res['annotation']:\n",
    "            point = annotation['points'][0]\n",
    "            labels = annotation['label']\n",
    "            if not isinstance(labels, list):\n",
    "                labels = [labels]\n",
    "            for label in labels:\n",
    "                entities.append((point['start'], point['end'] + 1 ,label))\n",
    "        training_data.append((text, {\"entities\" : entities}))\n",
    "    return training_data\n",
    "training_data = transform_json('med-corpus.json')"
   ]
  },
  {
   "cell_type": "code",
   "execution_count": 31,
   "metadata": {
    "tags": [
     "outputPrepend"
    ]
   },
   "outputs": [
    {
     "output_type": "stream",
     "name": "stdout",
     "text": [
      "imantadin so bald wie möglich wieder abgesetzt werden , in der Regel nach 3 bis 5 Behandlungstagen , oder innerhalb von 24 bis 48 Stunden nach Abklingen der Symptomatik ', {'entities': [(18, 26, 'b-med'), (31, 40, 'b-med'), (46, 56, 'b-med'), (204, 215, 'b-med')]}), ('Die neueren Neuraminidasehemmer sind für die Behandlung von Patienten zugelassen , die ein Jahr oder älter sind Oseltamivir oder für Patienten , die sieben Jahre oder älter sind Zanamivir ', {'entities': [(12, 31, 'b-med'), (45, 55, 'b-med'), (60, 69, 'b-med'), (112, 123, 'b-med'), (178, 187, 'b-med')]}), ('Sie sind bei Patienten mit einer komplikationslos verlaufenden akuten Erkrankung indiziert , wenn die Symptomatik noch nicht längerals zwei Tage besteht ', {'entities': [(13, 22, 'b-med'), (70, 80, 'b-med'), (102, 113, 'b-med')]}), ('Die empfohlene Therapiedauer beträgt für beide Medikamente fünf Tage ', {'entities': [(47, 58, 'b-med')]}), ('Theoretisch könnte jedes menschliche Wesen von diesem neuen Virus infiziert werden , seies der Bettler aus Paris oder der Präsident eines wohlhabenden westlichen Landes ', {'entities': [(60, 65, 'b-med')]}), ('Falls ein neuartiger , pandemischer Influenzastamm die Influenza bei Menschen verursachen wird , muss sich jeder einzelne eine schützende Antikörperantwort gegen das Virus aufbauen , aus dem einfachen Grund , weil das Virus sicher über viele Jahre bei uns bleiben wird ', {'entities': [(36, 50, 'b-med'), (55, 64, 'b-med'), (138, 155, 'b-med'), (166, 171, 'b-med')]}), ('Antikörper werden für einen gewissen Schutz gegen den neuen Influenzastamm sorgen , aber um Antikörper entwikkeln zu können , muss jemand zuvor entweder infiziert oder geimpft worden sein ', {'entities': [(0, 10, 'b-med'), (60, 74, 'b-med')]}), ('Für die große Mehrheit der 6 ,5 Mrd Menschen wird zu keinem Zeitpunkt kurz nachAuftreten eines neuen pandemischen Influenzavirus ein Impfstoff verfügbar sein ', {'entities': [(101, 113, 'b-med'), (114, 128, 'b-med'), (133, 142, 'b-med')]}), ('Sobald sich herausstellt , dass ein neues Virus effektiv von Mensch zu Menschübertragen wird , wird es ungefähr sechs Monate dauern , bevor die Herstellung eines korrespondierenden Impfstoffes beginnen kann ', {'entities': [(42, 47, 'b-med'), (61, 67, 'b-med')]}), ('Auch danach wird die Versor 26 Influenza 2006gung mit Impfstoffen zunächst äußerst unzureichend sein ', {'entities': [(31, 40, 'b-med')]}), ('Es wird Jahre dauern , bisgenug Impfstoff für 6 ,5 Mrd ', {'entities': [(32, 41, 'b-med')]}), ('Menschen hergestellt werden kann ', {'entities': []}), ('Darüber hinauskonzentrieren sich die Produktionskapazitäten auf Australien , Kanada , Frankreich , Deutschland , Italien , Japan , die Niederlande , England und die Vereinigten Staaten ,und man kann davon ausgehen , dass die Verteilung des Impfstoffes von den produzierenden Nationen kontrolliert werden wird (Fedson 2005) ', {'entities': [(64, 74, 'b-med'), (86, 96, 'b-med'), (99, 110, 'b-med')]}), ('Wer dann zuerst beliefert werden wird , können uns alle vorstellen ', {'entities': []}), ('Daher ist es sinnvoll davon auszugehen , dass die große Mehrheit der heute lebenden Bevölkerung über viele , viele Monate weder zum Impfstoff noch zu antiviralenMedikamenten Zugang haben wird ', {'entities': [(84, 95, 'b-med'), (132, 141, 'b-med'), (150, 173, 'b-med'), (174, 180, 'b-med')]}), ('Wenn ein Impfstoff nicht , oder zu spät verfügbar sein wird , wird womöglich jeder einzelne Strategien erarbeiten , um mit der Situation einer Pandemie zurechtzukommen ', {'entities': [(9, 18, 'b-med'), (143, 151, 'b-med')]}), ('Die Frage , die sich viele Menschenstellen werden , wird lauten: Konfrontieren oder Vermeiden?Es bleibt das Problem der Wahl des richtigen Zeitpunktes , wenn man sich dafürentscheidet , die Konfrontation mit einem neuen pandemischen Virus zu suchen undauf einen glücklichen Verlauf zu hoffen ', {'entities': [(220, 232, 'b-med'), (233, 238, 'b-med')]}), ('Man kanndavon ausgehen , dass Menschen , die während der ersten Welle infiziert wurden , während der zweiten Welle einen gewissen Schutz besaßen ', {'entities': []}), ('Das würdedafür sprechen , so schnell wie möglich die Konfrontation mit einem neuen Influenzastamm zu suchen ', {'entities': [(83, 97, 'b-med')]}), ('Allerdings empfehlen genauere Daten über die zweite Erkrankungswelle von1918 das Gegenteil: Je später jemand im Verlauf der zweiten Erkrankungswelle krank wurde , desto weniger wahrscheinlich verstarb sie oder er , und desto leichter verlief die Erkrankung (Barry 2004) ', {'entities': [(30, 35, 'b-med'), (149, 154, 'b-med'), (246, 256, 'b-med')]}), ('Somit hatten die Städte der amerikanischen Westküste , die später betroffen waren , niedrigere Todesraten als dieStädte der Ostküste; und Australien , das von der zweiten Erkrankungswelle erst1919 eingeholt wurde , verzeichnete die niedrigste Todesrate aller entwickeltenLänder (Barry 2004) ', {'entities': [(138, 148, 'b-med'), (243, 252, 'b-med')]}), ('Ein allgemein beobachtetes Phänomen bei Infektionserkrankungen ist , dass die Virulenz des Pathogens im Laufe seiner Entwicklung in einer menschlichen Population abnimmt ', {'entities': [(117, 128, 'b-med'), (151, 161, 'b-med')]}), ('Diese Beobachtung würde die zweite Option , zum Beispiel das Ausweichen vor einem neuen Influenzavirus so lange es geht , favorisieren ', {'entities': [(88, 102, 'b-med')]}), ('Die extremste Möglichkeit , der Influenza auszuweichen wäre , in entlegene Gegenden der Erdkugel zufliehen – einem Gebirgsdorf auf Korsika , die Libysche Wüste oder auf die Amerikanische Inselgruppe Samoa im Pazifik (Barry 2004) ', {'entities': [(32, 41, 'b-med'), (131, 138, 'b-med'), (173, 186, 'b-med'), (199, 204, 'b-med')]}), ('Falls ein direkter und ungeschützter Kontakt mit dem neuen Virusunvermeidbar wird , ist ein gewisser Schutz immer noch möglich: Gesichtsmasken(aber werden Masken überall verfügbar sein? Und wie lange?) und Fernhalten vonMenschenansammlungen (keine Versammlungen besuchen , so viel wie möglich zu\\x0cIndividueller Umgang mit Influenza H5N1 27Hause bleiben) ', {'entities': [(321, 330, 'b-med'), (331, 335, 'b-med')]}), ('aber was ist , falls jemand als Kassierer in einem belebten PariserSupermarkt arbeitet; als Metrofahrer in Londons Untergrundbahn , als Angestellterin einem Büro der Berliner Postzentrale? Woher bekommt jemand Geld , falls erüber Monate nicht arbeiten geht? Kann man sich von der Welt zurückziehen? Kannman sich vom Leben zurückziehen?Behandlung in einer PandemieWir wissen nicht , ob die gegenwärtig verfügbaren antiviralen Medikamente gegenden nächsten pandemischen Influenzastamm wirksam sein werden ', {'entities': [(115, 129, 'b-med'), (413, 424, 'b-med'), (455, 467, 'b-med'), (468, 482, 'b-med'), (425, 436, 'i-med')]}), ('Falls die Pandemie durch ein H5N1 Virus verursacht werden wird , werden die Neuraminidaseinhibitoren Oseltamivir und Zanamivir die kritischen Punkte bei den Planungenfür eine Pandemie darstellen (Moscona 2005) ', {'entities': [(10, 18, 'b-med'), (29, 33, 'b-med'), (34, 39, 'b-med')]}), ('Um es nochmals zu betonen: diemeisten Menschen auf der Erde werden zu diesen Medikamenten keinen Zuganghaben ', {'entities': [(77, 89, 'b-med')]}), ('Es gibt nur wenige Vorräte und es ist nicht einfach , die Produktionskapazitätzu erhöhen ', {'entities': []}), ('Selbst in Ländern , in denen Oseltamivir vorrätig gehalten wird , wirddie Verteilung eines Medikamentes , das nur in unzureichender Menge verfügbar ist ,zu erheblichen ethischen Problemen bei der Behandlung führen ', {'entities': [(196, 206, 'b-med')]}), ('In einigen Ländernmit ausgesprochen Unterschieden zwischen Arm und Reich (z ', {'entities': [(59, 62, 'b-med')]}), ('B einige Afrikanische und Lateinamerikanische Länder , die Vereinigten Staaten) sind soziale Unruhen zu erwarten ', {'entities': []}), ('Erfahrungen mit die Behandlung der H5N1 Influenza beim Menschen sind begrenzt , und klinische Berichte , die bis heute veröffentlicht wurden , schließen nurwenige Patienten ein (Yuen 1998 , Chan 2002 , Hien 2004 , Chotpitayasunondh 2005 , WHO 2005 , de Jong 2005) ', {'entities': [(20, 30, 'b-med'), (35, 39, 'b-med'), (40, 49, 'b-med'), (94, 102, 'b-med'), (163, 172, 'b-med'), (239, 242, 'b-med')]}), ('Insbesondere die optimale Dosierung und Dauer einerOseltamivirbehandlung ist bei H5N1 unklar ', {'entities': [(26, 35, 'b-med'), (81, 85, 'b-med')]}), ('Vorläufigen Empfehlungen lauten(WHO 2005): Die Therapie mit Oseltamivir sollte so früh wie möglich begonnen werden ', {'entities': [(47, 55, 'b-med')]}), ('Weil die Mortalitätsrate bei H5N1 Erkrankungen mit dem H5N1 Virus immernoch sehr hoch ist , sollte eine Behandlung auch noch 8 Tage nach Auftretender Symptome in Betracht gezogen werden , falls es Anzeichen einer anhaltenden Virusreplikation gibt (WHO 2005 , de Jong 2005)Bei schweren Krankheitsverläufen muss bedacht werden , die Oseltamivirdosiszu erhöhen (für Erwachsene auf 15. mg zwei mal täglich) und die Therapieüber einen längeren Zeitraum (7 bis 1. Tage oder länger) fortzuführen (WHO2006d)Oseltamivir wird im Allgemeinen gut vertragen ', {'entities': [(29, 33, 'b-med'), (34, 46, 'b-med'), (60, 65, 'b-med'), (104, 114, 'b-med'), (150, 158, 'b-med'), (363, 373, 'b-med'), (382, 384, 'b-med')]}), ('Dennoch können bei höherer Dosierung vor allem gastrointestinale Nebenwirkungen vermehrt auftreten , insbesondere wenn die Dosis 30. mg täglich übersteigt (WHO 2006d) ', {'entities': [(27, 36, 'b-med'), (65, 79, 'b-med'), (123, 128, 'b-med'), (133, 135, 'b-med')]}), ('Strategien für eine EpidemieIn den Jahren zwischen zwei Pandemien bildet die Impfung (siehe Zusammenfassung der CDC 2005) die Grundlage der medizinischen Intervention ', {'entities': [(56, 65, 'b-med'), (77, 84, 'b-med'), (112, 115, 'b-med')]}), ('Weil Influenzaviren ständig mutieren , muss die Zusammensetzung des Impfstoffes jährlichüberprüft werden ', {'entities': [(5, 19, 'b-med')]}), ('Die Entscheidung über die Zusammensetzung des nächsten „Cocktails“ erfolgt jeweils im Februar für den darauf folgendenWinter der nördlichen Hemisphäre (WHO 2006b) , und im September für den darauffolgenden Winter der südlichen Hemisphäre ', {'entities': [(140, 150, 'b-med')]}), ('Strategien für eine Pandemie– Siehe auch Reyes-Terán 2006 und WHO 2006c –Schwere InfluenzaPandemien sind seltene und unvorhersagbare Ereignisse ', {'entities': [(62, 65, 'b-med'), (81, 99, 'b-med')]}), ('Die Bedeutung für die Gesundheit derMenschheit kann sehr unterschiedlich sein und wird ausgedrückt in der Anzahl der:•infizierten Personen•klinisch kranken Personen•hospitalisierten Patienten• Todesfälle ', {'entities': [(22, 32, 'b-med')]}), ('Man geht davon aus , dass sich während des ersten Jahres der nächsten Pandemie 2Milliarden Menschen mit dem neuen Virus infizieren werden , und dass die Hälftevon ihnen symptomatisch werden wird ', {'entities': [(70, 78, 'b-med'), (114, 119, 'b-med'), (120, 130, 'b-med')]}), ('Voraussagen über die zu erwartende Anzahl von Menschen , die hospitalisiert werden müssen oder über die Todesrate sindweniger genau ', {'entities': [(104, 113, 'b-med')]}), ('Während der Pandemien 1957 und 1968 wurden die zusätzlichenTodesfälle auf jeweils etwa eine Million geschätzt ', {'entities': [(12, 21, 'b-med')]}), ('Im Gegensatz dazu schätzt man ,dass 1918 im Rahmen der InfluenzaPandemie 5. Millionen Menschen verstarben ', {'entities': [(55, 72, 'b-med')]}), ('In einer Welt mit umfassender Berichterstattung in den Medien über Katastrophen , würde die daraus resultierende Stimmung wahrscheinlich der einer Kriegssituation gleichen ', {'entities': [(113, 121, 'b-med')]}), ('Im Gegensatz dazu würdeeine leichte Pandemie , ähnlich wie 1968 , fast unbemerkt und ohne erheblichen Einfluss auf die nationalen Gesundheitssysteme und die Weltwirtschaft vorübergehen ', {'entities': [(36, 44, 'b-med')]}), ('Die Sorge , dass die Welt erneut von einer Katastrophe wie 1918 getroffen werdenkönnte , basiert auf der Beobachtung , dass das derzeit verbreitete Virus beunruhigende Eigenschaften mit dem Virus der 1918-er Pandemie teilt (Taubenberger2005) ', {'entities': [(148, 153, 'b-med'), (208, 216, 'b-med')]}), ('Falls H5N1 jedoch das Virus für die nächste verheerende Influenzapandemiesein sollte , warum hat es dann noch nicht die Eigenschaft erworben , sich leicht unter Menschen auszubreiten? In den letzten Jahren hatte H5N1 sowohl Zeit als auchGelegenheit , in einen pandemischen Stamm zu mutieren ', {'entities': [(6, 10, 'b-med'), (22, 27, 'b-med'), (260, 272, 'b-med'), (273, 278, 'b-med')]}), ('Warum hat es dies nochnicht getan? Und wenn es das in fast zehn Jahren noch nicht getan hat , warum solltees dies dann in Zukunft tun? Tatsächlich weiß man nur von dreien (H1 , H2 , H3) der16 Influenza H Subtypen , dass sie Pandemien unter Menschen ausgelöst haben(1918 , 1957 , 1968 und wahrscheinlich 1889 (Dowdle 2006)) , und es war sogar dieHypothese aufgestellt worden , dass H5 Viren aufgrund angeborener Eigenschaftenüberhaupt nicht in der Lage ist , wirksam von Mensch zu Mensch übertragen zuwerden ', {'entities': [(192, 201, 'b-med'), (224, 233, 'b-med'), (384, 389, 'b-med'), (447, 451, 'b-med'), (470, 476, 'b-med')]}), ('Sollten wir eines Tages entdecken , dass sich H5 Viren nicht für eine Pandemie unter Menschen eignen , weil nicht alle möglichen Subtypen reassorten können , um funktionstüchtige menschliche PandemieStämme zu bilden? Wir wissen esnicht ', {'entities': [(49, 54, 'b-med'), (70, 78, 'b-med'), (191, 205, 'b-med')]}), ('Abgesehen von stufenweisen Mutationen , die ein Vogelgrippevirus in einmenschliches Influenzavirus verwandeln , ist das Reassortment der zweite Weg ,über den neue pandemische Viren geschaffen werden ', {'entities': [(27, 37, 'b-med'), (84, 98, 'b-med'), (175, 180, 'b-med')]}), ('Die beiden Pandemien , diedurch dieses Phänomen ausgelöst wurden , traten 1957 und 1968 auf ', {'entities': [(11, 20, 'b-med')]}), ('Beide zeigteneinen relativ gutartigen Verlauf und unterschieden sich grundsätzlich von dem , was1918 geschah ', {'entities': []}), ('Es gibt einige vorläufige experimentelle Hinweise darauf , dass reasssortete Viren aus dem 1918er Virus weniger virulent sein könnten , als die koordinierte Expression aller acht Gene aus dem 1918er Virus (Tumpey 2005) ', {'entities': [(77, 82, 'b-med'), (98, 103, 'b-med'), (179, 183, 'b-med')]}), ('Bedeutetdas , dass Pandemien , die das Ergebnis eines Reassortments von einem menschli-\\x0c3. Influenza 2006chen Virus und einem Vogelvirus sind , schwächer verlaufen als Pandemien , diedurch ein Virus verursacht werden , das langsam Mutationen angehäuft hat , um vonWasservögeln zu menschlichen Wirten überzutreten? Wir wissen es nicht ', {'entities': [(19, 28, 'b-med'), (39, 47, 'b-med'), (91, 100, 'b-med'), (110, 115, 'b-med'), (231, 241, 'b-med')]}), ('EindämmungMan schätzt , dass es möglich wäre , durch eine Kombination aus antiviraler Prophylaxe und Maßnahmen zum Abstandhalten im sozialen Bereich , einen aufstrebenden pandemischen Influenzastamm am Ursprungsort einzudämmen und zu eliminieren (Ferguson 2005 , Longini 2005) ', {'entities': [(141, 148, 'b-med'), (171, 183, 'b-med'), (184, 198, 'b-med')]}), ('Zu diesem Zweck hat die WHO vor kurzem begonnen , einen internationalen Vorrat an Medikamenten für 3 Millionen antivirale Therapien anzulegen , um diese rasch zum Ort einer beginnenden InfluenzaPandemie verschicken zu können ', {'entities': [(24, 27, 'b-med'), (82, 94, 'b-med'), (122, 131, 'b-med'), (185, 202, 'b-med')]}), ('Eine optimale Strategiezum Gebrauch der eingelagerten antiviralen Medikamente ist jedoch nicht bekannt ,weil nie zuvor versucht wurde , eine entstehende InfluenzaPandemie aufzuhalten ', {'entities': [(54, 65, 'b-med'), (153, 170, 'b-med'), (66, 77, 'i-med')]}), ('MedikamenteWenn eine Pandemie erst begonnen hat ', {'entities': [(21, 29, 'b-med')]}), ('und Impfstoffe noch nicht zur Verfügungstehen ', {'entities': [(4, 14, 'b-med')]}), ('hängen die nationalen Maßnahmen von der Verfügbarkeit antiviraler Medikamente ab ', {'entities': [(40, 53, 'b-med'), (66, 77, 'b-med')]}), ('Weil die Nachfrage nach dem Medikament , entweder in Form von Kapseln oder als lose aktive pharmazeutische Substanz , größer sein wird als der Vorrat , wurde die Lagerung antiviraler Medikamente von einigen Regierungen alserfolgversprechende Option in Erwägung gezogen ', {'entities': [(28, 38, 'b-med'), (62, 69, 'b-med'), (91, 106, 'b-med'), (183, 194, 'b-med')]}), ('Die Diskussion darüber , welche Medikamente vorrätig gehalten werden sollten , istnoch nicht beendet ', {'entities': [(32, 43, 'b-med')]}), ('H5N1 Isolate ,die 2003 von Patienten in China gewonnen wurden und Isolate eines Abkömmlingsvon aviären und humanen H5N1 Viren aus Thailand , Vietnam und Kambodscha ,waren resistent gegen Adamantine ', {'entities': [(0, 4, 'b-med'), (27, 36, 'b-med'), (120, 125, 'b-med')]}), ('Jedoch scheinen Isolate , die vonkürzlich in Indonesien , China , der Mongolei , Russland und der Türkei zirkulierenden Virusstämmen getestet wurden , gegenüber Amantadine empfindlich zu sein ', {'entities': [(81, 89, 'b-med'), (120, 132, 'b-med')]}), ('In Hinsicht auf die wirtschaftliche Bedeutung gibt es gewissen Hinweise darauf , dass sich selbst die Einlagerung der teuren Neuraminidaseinhibitoren für die Behandlung von Patienten rechnen würde , wenn es zusätzlich auchangemessene Vorräte für eine kurzzeit Postexpositionsprophylaxe für nahe Kontaktpersonen gäbe ', {'entities': [(158, 168, 'b-med'), (173, 182, 'b-med'), (260, 285, 'b-med')]}), ('Wenn man Strategien zur Vorratshaltung dieser Medikamente für die Behandlung und Prävention der Influenza in Singapur vergleicht , wurden mit der reinen Therapie optimale wirtschaftliche Vorteile erzielt : Die Einlagerung von antiviralen Medikamenten für 40% der Bevölkerung würde Weltweite Strategien schätzungsweise 418 Leben retten und 414 Millionen $ einsparen , wobei sich die Kosten pro Haltbarkeitsspanne des Vorrates auf 52 ', {'entities': [(46, 57, 'b-med'), (66, 76, 'b-med'), (81, 91, 'b-med'), (96, 105, 'b-med'), (153, 161, 'b-med'), (226, 237, 'b-med'), (263, 274, 'b-med'), (238, 250, 'i-med')]}), ('Als wirtschaftlich sinnvoll erwies sich die Prophylaxe in HochrisikoSubpopulationen , die für 78% der Todesfälle verantwortlich sind und bei Pandemien , bei denen die Todesrate mehr als ', {'entities': [(44, 54, 'b-med'), (141, 150, 'b-med'), (167, 176, 'b-med')]}), (',6 % betrug ', {'entities': []}), ('Sobald eine Pandemie begonnen hat , werden Länder , die keine antiviralen Medikamente eingelagert haben , wahrscheinlich nicht mehr in der Lage sein , neue Vorräte zu kaufen ', {'entities': [(12, 20, 'b-med'), (62, 73, 'b-med'), (139, 143, 'b-med'), (74, 85, 'i-med')]}), ('In diesem Zusammenhang wurde vorgeschlagen , dass Regierungenobligatorisch Vorkehrungen für Lizenzierungsmaßnahmen treffen , die es den Herstellern von Generika erlauben , vor Ort unter einheimischem Patentrecht die Herstellung antiviraler Medikamente zu beginnen , oder sie zu erschwinglichen Preisenvon Generikaherstellern zu importieren (Lokuge 2006) ', {'entities': [(240, 251, 'b-med')]}), ('In Europa versuchen einigeRegierungen , für 25% der Bevölkerung Vorräte des Neuraminidaseinhibitors Oseltamivir anzulegen ', {'entities': [(52, 63, 'b-med')]}), ('Die Menge der Dosierungen , die gebraucht werden , um ein solches Maß an „Abdeckung“ zu erreichen basiert auf der Standartbehandlung vonzweimal täglich 75 mg über 5 Tage ', {'entities': [(155, 157, 'b-med')]}), ('Falls sich jedoch herausstellen sollte , dass diedoppelte Dosis über einen doppelt so langen Zeitraum (WHO 2005 , WHO 2006d)für einen wesentlichen Teil der Patienten nötig sein würde , könnte ein Vorrat , derfür 25% der Bevölkerung geplant war , schneller als erwartet dahin schmelzen ', {'entities': [(58, 63, 'b-med'), (114, 117, 'b-med'), (156, 165, 'b-med'), (220, 231, 'b-med')]}), ('Genauere Informationen zur medikamentösen Behandlung der Influenza finden sichunter Hoffmann 2006b ', {'entities': [(42, 52, 'b-med'), (57, 66, 'b-med')]})]\n"
     ]
    }
   ],
   "source": [
    "print(training_data)"
   ]
  },
  {
   "cell_type": "code",
   "execution_count": 33,
   "metadata": {},
   "outputs": [
    {
     "output_type": "stream",
     "name": "stdout",
     "text": [
      "Statring iteration 0\n",
      "{'ner': 942.5102391913283}\n",
      "Statring iteration 1\n",
      "{'ner': 451.30299259373726}\n",
      "Statring iteration 2\n",
      "{'ner': 284.5659009561343}\n",
      "Statring iteration 3\n",
      "{'ner': 219.86949792512678}\n",
      "Statring iteration 4\n",
      "{'ner': 191.51629554363748}\n",
      "Statring iteration 5\n",
      "{'ner': 127.20699251842947}\n",
      "Statring iteration 6\n",
      "{'ner': 134.4207719777719}\n",
      "Statring iteration 7\n",
      "{'ner': 141.02930733889778}\n",
      "Statring iteration 8\n",
      "{'ner': 87.37404514935015}\n",
      "Statring iteration 9\n",
      "{'ner': 70.07034648682334}\n",
      "Statring iteration 10\n",
      "{'ner': 83.06014916951477}\n",
      "Statring iteration 11\n",
      "{'ner': 76.7618093471189}\n",
      "Statring iteration 12\n",
      "{'ner': 44.04627077672344}\n",
      "Statring iteration 13\n",
      "{'ner': 98.77199549301368}\n",
      "Statring iteration 14\n",
      "{'ner': 61.72500883349216}\n",
      "Statring iteration 15\n",
      "{'ner': 62.881098124164446}\n",
      "Statring iteration 16\n",
      "{'ner': 54.43484834127341}\n",
      "Statring iteration 17\n",
      "{'ner': 61.40525640411748}\n",
      "Statring iteration 18\n",
      "{'ner': 35.345661456095364}\n",
      "Statring iteration 19\n",
      "{'ner': 23.136873534381138}\n"
     ]
    }
   ],
   "source": [
    "import warnings\n",
    "\n",
    "def train_spacy(data,iterations):    \n",
    "    nlp = spacy.blank('de')  # create blank Language class\n",
    "    # create the built-in pipeline components and add them to the pipeline\n",
    "    # nlp.create_pipe works for built-ins that are registered with spaCy\n",
    "    if 'ner' not in nlp.pipe_names:\n",
    "        ner = nlp.create_pipe('ner')\n",
    "        nlp.add_pipe(ner, last=True)\n",
    "    else:\n",
    "        ner = nlp.get_pipe(\"ner\")   \n",
    "\n",
    "    # add labels\n",
    "    for _, annotations in data:\n",
    "         for ent in annotations.get('entities'):\n",
    "            ner.add_label(ent[2])\n",
    "\n",
    "    # get names of other pipes to disable them during training\n",
    "    other_pipes = [pipe for pipe in nlp.pipe_names if pipe != 'ner']\n",
    "    with nlp.disable_pipes(*other_pipes):  # only train NER\n",
    "         # show warnings for misaligned entity spans once\n",
    "        warnings.filterwarnings(\"once\", category=UserWarning, module='spacy')\n",
    "        optimizer = nlp.begin_training()\n",
    "        for itn in range(iterations):\n",
    "            print(\"Statring iteration \" + str(itn))\n",
    "            random.shuffle(data)\n",
    "            losses = {}\n",
    "            for text, annotations in data:\n",
    "                nlp.update(\n",
    "                    [text],  # batch of texts\n",
    "                    [annotations],  # batch of annotations\n",
    "                    drop=0.2,  # dropout - make it harder to memorise data\n",
    "                    sgd=optimizer,  # callable to update weights\n",
    "                    losses=losses)\n",
    "            print(losses)\n",
    "    return nlp\n",
    "\n",
    "\n",
    "prdnlp = train_spacy(training_data, 20)\n",
    "\n",
    "# Save our trained Model\n",
    "modelfile = 'models/' + input(\"Enter your Model Name: \")\n",
    "prdnlp.to_disk(modelfile)"
   ]
  },
  {
   "cell_type": "code",
   "execution_count": 35,
   "metadata": {},
   "outputs": [
    {
     "output_type": "stream",
     "name": "stdout",
     "text": [
      "Gesundheitssystems 108 126 b-med\nAusnahmeregelungen 183 201 b-med\nApotheken 411 420 b-med\nMedikamenten 437 449 b-med\nGeldgier 510 518 b-med\nArzneimitteln 549 562 b-med\nArzneimittelversorgung 644 666 b-med\nPandemien 685 694 b-med\n"
     ]
    }
   ],
   "source": [
    "#Test your text\n",
    "test_text = input(\"Enter your testing text: \")\n",
    "doc = prdnlp(test_text)\n",
    "for ent in doc.ents:\n",
    "    print(ent.text, ent.start_char, ent.end_char, ent.label_)"
   ]
  },
  {
   "cell_type": "code",
   "execution_count": null,
   "metadata": {},
   "outputs": [],
   "source": []
  }
 ],
 "metadata": {
  "kernelspec": {
   "name": "Python 3.7.8 64-bit",
   "display_name": "Python 3.7.8 64-bit",
   "metadata": {
    "interpreter": {
     "hash": "e534e48711db4d1e1c48977d0d14ff85b1f16d41bcc4fdfd88268a329b3c9d66"
    }
   }
  },
  "language_info": {
   "codemirror_mode": {
    "name": "ipython",
    "version": 3
   },
   "file_extension": ".py",
   "mimetype": "text/x-python",
   "name": "python",
   "nbconvert_exporter": "python",
   "pygments_lexer": "ipython3",
   "version": "3.7.8-final"
  }
 },
 "nbformat": 4,
 "nbformat_minor": 4
}